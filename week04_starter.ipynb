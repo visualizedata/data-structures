{
  "nbformat": 4,
  "nbformat_minor": 0,
  "metadata": {
    "colab": {
      "provenance": []
    },
    "kernelspec": {
      "name": "python3",
      "display_name": "Python 3"
    },
    "language_info": {
      "name": "python"
    }
  },
  "cells": [
    {
      "cell_type": "code",
      "execution_count": 5,
      "metadata": {
        "id": "jbOhI5xnV7co"
      },
      "outputs": [],
      "source": [
        "m1 = \"\"\"\n",
        "                  <tr style=\"margin-bottom:10px\">\n",
        "                    <td style=\"border-bottom:1px solid #e3e3e3; width:260px\" valign=\"top\">\n",
        "                    \t<h4 style=\"margin:0;padding:0;\">SRO Building</h4><br />\n",
        "\t\t\t\t  \t    <b>A CHANCE TO LIVE AGAIN - A Chance To Live Again</b><br />\n",
        "\t\t\t\t\t\t109 West 129th Street,  Basement,\n",
        "\t\t\t\t\t\t<br />(@ Lenox Avenue) NY 10027\n",
        "\t\t\t\t\t\t<br />\n",
        "\t\t\t\t\t\t<br />\n",
        "\n",
        "\t\t\t\t\t\t<span style=\"color:darkblue; font-size:10pt;\">\n",
        "                        <img src=\"../images/wheelchair.jpg\" alt=\"Wheelchair Access\" width=\"20\" vspace=\"5\" hspace=\"10\" align=\"absmiddle\"/>Wheelchair access\n",
        "                        </span>\n",
        "\n",
        "\n",
        "                    </td>\n",
        "                    <td style=\"border-bottom:1px solid #e3e3e3;width:350px;\" valign=\"top\">\n",
        "\n",
        "\t\t\t\t  \t    <b>Wednesdays From</b>  6:00 PM <b>to</b> 7:00 PM <br /><b>Meeting Type</b> BB = Big Book meeting\n",
        "\t\t\t \t\t\t<br />\n",
        "                    \t<br />\n",
        "\n",
        "\t\t\t\t  \t    <b>Mondays From</b>  7:00 PM <b>to</b> 8:00 PM <br /><b>Meeting Type</b> B = Beginners meeting\n",
        "\t\t\t \t\t\t<br />\n",
        "                    \t<br />\n",
        "\n",
        "\t\t\t\t\t</td>\n",
        "                    <td style=\"border-bottom:1px solid #dedede; width:90px; \">\n",
        "                    \t<a href=\"getdirections.cfm?meetingid=32\" class=\"GetDirections\">Get Directions</a>\n",
        "                    </td>\n",
        "                  </tr>\n",
        "\"\"\""
      ]
    },
    {
      "cell_type": "code",
      "source": [
        "print(m1)"
      ],
      "metadata": {
        "colab": {
          "base_uri": "https://localhost:8080/"
        },
        "id": "Vy7YBdSHWlBP",
        "outputId": "864790c3-086a-4b1f-f160-7ab79ded66dc"
      },
      "execution_count": 6,
      "outputs": [
        {
          "output_type": "stream",
          "name": "stdout",
          "text": [
            "\n",
            "                  <tr style=\"margin-bottom:10px\">\n",
            "                    <td style=\"border-bottom:1px solid #e3e3e3; width:260px\" valign=\"top\">\n",
            "                    \t<h4 style=\"margin:0;padding:0;\">SRO Building</h4><br />\n",
            "\t\t\t\t  \t    <b>A CHANCE TO LIVE AGAIN - A Chance To Live Again</b><br />\n",
            "\t\t\t\t\t\t109 West 129th Street,  Basement, \n",
            "\t\t\t\t\t\t<br />(@ Lenox Avenue) NY 10027\n",
            "\t\t\t\t\t\t<br />\n",
            "\t\t\t\t\t\t<br />\n",
            "                         \n",
            "\t\t\t\t\t\t<span style=\"color:darkblue; font-size:10pt;\">\n",
            "                        <img src=\"../images/wheelchair.jpg\" alt=\"Wheelchair Access\" width=\"20\" vspace=\"5\" hspace=\"10\" align=\"absmiddle\"/>Wheelchair access\n",
            "                        </span>\n",
            "\t\t\t  \t\t\t\n",
            "\t\t\t\t\t\t\n",
            "                    </td>\n",
            "                    <td style=\"border-bottom:1px solid #e3e3e3;width:350px;\" valign=\"top\">\n",
            "                   \t \t\n",
            "\t\t\t\t  \t    <b>Wednesdays From</b>  6:00 PM <b>to</b> 7:00 PM <br /><b>Meeting Type</b> BB = Big Book meeting \n",
            "\t\t\t \t\t\t<br />\n",
            "                    \t<br />\n",
            "                    \t\n",
            "\t\t\t\t  \t    <b>Mondays From</b>  7:00 PM <b>to</b> 8:00 PM <br /><b>Meeting Type</b> B = Beginners meeting \n",
            "\t\t\t \t\t\t<br />\n",
            "                    \t<br />\n",
            "                    \t\t\n",
            "\t\t\t\t\t</td> \n",
            "                    <td style=\"border-bottom:1px solid #dedede; width:90px; \">\n",
            "                    \t<a href=\"getdirections.cfm?meetingid=32\" class=\"GetDirections\">Get Directions</a>\n",
            "                    </td>\n",
            "                  </tr>\n",
            "\n"
          ]
        }
      ]
    },
    {
      "cell_type": "code",
      "source": [
        "m2 = \"\"\"\n",
        "                  <tr style=\"margin-bottom:10px\">\n",
        "                    <td style=\"border-bottom:1px solid #e3e3e3; width:260px\" valign=\"top\">\n",
        "                    \t<h4 style=\"margin:0;padding:0;\">Union Baptist Church</h4><br />\n",
        "\t\t\t\t  \t    <b>AA IT WORKS  II - AA It Works II</b><br />\n",
        "\t\t\t\t\t\t240 West 145th Street,\n",
        "\t\t\t\t\t\t<br />(Betw 7th & 8th Avenues) NY 10039\n",
        "\t\t\t\t\t\t<br />\n",
        "\t\t\t\t\t\t<br />\n",
        "\n",
        "                        <div class=\"detailsBox\">\n",
        "                        \tThu=Altern.BB, Living Sober & Other A.A. Literature. <br />Fri.=Alternates between Step & Tradition.\n",
        "                        </div>\n",
        "\n",
        "\t\t\t\t\t\t<span style=\"color:darkblue; font-size:10pt;\">\n",
        "                        <img src=\"../images/wheelchair.jpg\" alt=\"Wheelchair Access\" width=\"20\" vspace=\"5\" hspace=\"10\" align=\"absmiddle\"/>Wheelchair access\n",
        "                        </span>\n",
        "\n",
        "\n",
        "                    </td>\n",
        "                    <td style=\"border-bottom:1px solid #e3e3e3;width:350px;\" valign=\"top\">\n",
        "\n",
        "\t\t\t\t  \t    <b>Wednesdays From</b>  10:00 AM <b>to</b> 11:00 AM <br /><b>Meeting Type</b> B = Beginners meeting\n",
        "\t\t\t \t\t\t<br />\n",
        "                    \t<br />\n",
        "\n",
        "\t\t\t\t  \t    <b>Thursdays From</b>  10:00 AM <b>to</b> 11:00 AM <br /><b>Meeting Type</b> BB = Big Book meeting\n",
        "\t\t\t \t\t\t<br />\n",
        "                    \t<br />\n",
        "\n",
        "\t\t\t\t  \t    <b>Fridays From</b>  10:00 AM <b>to</b> 11:00 AM <br /><b>Meeting Type</b> S = Step meeting\n",
        "\t\t\t \t\t\t<br />\n",
        "                    \t<br />\n",
        "\n",
        "\t\t\t\t  \t    <b>Tuesdays From</b>  10:00 AM <b>to</b> 11:00 AM <br /><b>Meeting Type</b> OD = Open Discussion meeting\n",
        "\t\t\t \t\t\t<br />\n",
        "                    \t<br />\n",
        "\n",
        "\t\t\t\t\t</td>\n",
        "                    <td style=\"border-bottom:1px solid #dedede; width:90px; \">\n",
        "                    \t<a href=\"getdirections.cfm?meetingid=36\" class=\"GetDirections\">Get Directions</a>\n",
        "                    </td>\n",
        "                  </tr>\n",
        "\"\"\""
      ],
      "metadata": {
        "id": "FLlPDaQqV_aY"
      },
      "execution_count": 7,
      "outputs": []
    },
    {
      "cell_type": "code",
      "source": [
        "print(m2)"
      ],
      "metadata": {
        "colab": {
          "base_uri": "https://localhost:8080/"
        },
        "id": "yZwy1fFEWoMY",
        "outputId": "92b5b6cc-20f7-4e32-b5c8-6ecb16f7e1c5"
      },
      "execution_count": 8,
      "outputs": [
        {
          "output_type": "stream",
          "name": "stdout",
          "text": [
            "\n",
            "                  <tr style=\"margin-bottom:10px\">\n",
            "                    <td style=\"border-bottom:1px solid #e3e3e3; width:260px\" valign=\"top\">\n",
            "                    \t<h4 style=\"margin:0;padding:0;\">Union Baptist Church</h4><br />\n",
            "\t\t\t\t  \t    <b>AA IT WORKS  II - AA It Works II</b><br />\n",
            "\t\t\t\t\t\t240 West 145th Street, \n",
            "\t\t\t\t\t\t<br />(Betw 7th & 8th Avenues) NY 10039\n",
            "\t\t\t\t\t\t<br />\n",
            "\t\t\t\t\t\t<br />\n",
            "                        \n",
            "                        <div class=\"detailsBox\"> \n",
            "                        \tThu=Altern.BB, Living Sober & Other A.A. Literature. <br />Fri.=Alternates between Step & Tradition. \n",
            "                        </div>\n",
            "                         \n",
            "\t\t\t\t\t\t<span style=\"color:darkblue; font-size:10pt;\">\n",
            "                        <img src=\"../images/wheelchair.jpg\" alt=\"Wheelchair Access\" width=\"20\" vspace=\"5\" hspace=\"10\" align=\"absmiddle\"/>Wheelchair access\n",
            "                        </span>\n",
            "\t\t\t  \t\t\t\n",
            "\t\t\t\t\t\t\n",
            "                    </td>\n",
            "                    <td style=\"border-bottom:1px solid #e3e3e3;width:350px;\" valign=\"top\">\n",
            "                   \t \t\n",
            "\t\t\t\t  \t    <b>Wednesdays From</b>  10:00 AM <b>to</b> 11:00 AM <br /><b>Meeting Type</b> B = Beginners meeting \n",
            "\t\t\t \t\t\t<br />\n",
            "                    \t<br />\n",
            "                    \t\n",
            "\t\t\t\t  \t    <b>Thursdays From</b>  10:00 AM <b>to</b> 11:00 AM <br /><b>Meeting Type</b> BB = Big Book meeting \n",
            "\t\t\t \t\t\t<br />\n",
            "                    \t<br />\n",
            "                    \t\n",
            "\t\t\t\t  \t    <b>Fridays From</b>  10:00 AM <b>to</b> 11:00 AM <br /><b>Meeting Type</b> S = Step meeting \n",
            "\t\t\t \t\t\t<br />\n",
            "                    \t<br />\n",
            "                    \t\n",
            "\t\t\t\t  \t    <b>Tuesdays From</b>  10:00 AM <b>to</b> 11:00 AM <br /><b>Meeting Type</b> OD = Open Discussion meeting \n",
            "\t\t\t \t\t\t<br />\n",
            "                    \t<br />\n",
            "                    \t\t\n",
            "\t\t\t\t\t</td> \n",
            "                    <td style=\"border-bottom:1px solid #dedede; width:90px; \">\n",
            "                    \t<a href=\"getdirections.cfm?meetingid=36\" class=\"GetDirections\">Get Directions</a>\n",
            "                    </td>\n",
            "                  </tr>\n",
            "\n"
          ]
        }
      ]
    },
    {
      "cell_type": "code",
      "source": [
        "m3 = \"\"\"\n",
        "                  <tr style=\"margin-bottom:10px\">\n",
        "                    <td style=\"border-bottom:1px solid #e3e3e3; width:260px\" valign=\"top\">\n",
        "                    \t<h4 style=\"margin:0;padding:0;\">Our Lady of Lourdes Church</h4><br />\n",
        "\t\t\t\t  \t    <b>ATTITUDE ADJUSTMENT - Attitude Adjustment</b><br />\n",
        "\t\t\t\t\t\t469 West 142nd Street, Basement,\n",
        "\t\t\t\t\t\t<br />(Betw Convent & Amsterdam Avenues) NY 10031\n",
        "\t\t\t\t\t\t<br />\n",
        "\t\t\t\t\t\t<br />\n",
        "\n",
        "                        <div class=\"detailsBox\">\n",
        "                        \tTopic 1st Saturday.\n",
        "                        </div>\n",
        "\n",
        "\n",
        "                    </td>\n",
        "                    <td style=\"border-bottom:1px solid #e3e3e3;width:350px;\" valign=\"top\">\n",
        "\n",
        "\t\t\t\t  \t    <b>Saturdays From</b>  7:30 AM <b>to</b> 8:30 AM <br /><b>Meeting Type</b> OD = Open Discussion meeting\n",
        "\t\t\t \t\t\t<br />\n",
        "                    \t<br />\n",
        "\n",
        "\t\t\t\t\t</td>\n",
        "                    <td style=\"border-bottom:1px solid #dedede; width:90px; \">\n",
        "                    \t<a href=\"getdirections.cfm?meetingid=58\" class=\"GetDirections\">Get Directions</a>\n",
        "                    </td>\n",
        "                  </tr>\n",
        "\"\"\""
      ],
      "metadata": {
        "id": "_SHedmHuWciy"
      },
      "execution_count": 9,
      "outputs": []
    },
    {
      "cell_type": "code",
      "source": [
        "print(m3)"
      ],
      "metadata": {
        "colab": {
          "base_uri": "https://localhost:8080/"
        },
        "id": "tZXbzI97Wjai",
        "outputId": "3e457ec9-4680-4701-8c6c-802931191036"
      },
      "execution_count": 10,
      "outputs": [
        {
          "output_type": "stream",
          "name": "stdout",
          "text": [
            "\n",
            "                  <tr style=\"margin-bottom:10px\">\n",
            "                    <td style=\"border-bottom:1px solid #e3e3e3; width:260px\" valign=\"top\">\n",
            "                    \t<h4 style=\"margin:0;padding:0;\">Our Lady of Lourdes Church</h4><br />\n",
            "\t\t\t\t  \t    <b>ATTITUDE ADJUSTMENT - Attitude Adjustment</b><br />\n",
            "\t\t\t\t\t\t469 West 142nd Street, Basement, \n",
            "\t\t\t\t\t\t<br />(Betw Convent & Amsterdam Avenues) NY 10031\n",
            "\t\t\t\t\t\t<br />\n",
            "\t\t\t\t\t\t<br />\n",
            "                        \n",
            "                        <div class=\"detailsBox\"> \n",
            "                        \tTopic 1st Saturday. \n",
            "                        </div>\n",
            "                        \n",
            "\t\t\t\t\t\t\n",
            "                    </td>\n",
            "                    <td style=\"border-bottom:1px solid #e3e3e3;width:350px;\" valign=\"top\">\n",
            "                   \t \t\n",
            "\t\t\t\t  \t    <b>Saturdays From</b>  7:30 AM <b>to</b> 8:30 AM <br /><b>Meeting Type</b> OD = Open Discussion meeting \n",
            "\t\t\t \t\t\t<br />\n",
            "                    \t<br />\n",
            "                    \t\t\n",
            "\t\t\t\t\t</td> \n",
            "                    <td style=\"border-bottom:1px solid #dedede; width:90px; \">\n",
            "                    \t<a href=\"getdirections.cfm?meetingid=58\" class=\"GetDirections\">Get Directions</a>\n",
            "                    </td>\n",
            "                  </tr>\n",
            "\n"
          ]
        }
      ]
    },
    {
      "cell_type": "code",
      "source": [],
      "metadata": {
        "id": "q5S1BwCLWsEd"
      },
      "execution_count": null,
      "outputs": []
    }
  ]
}