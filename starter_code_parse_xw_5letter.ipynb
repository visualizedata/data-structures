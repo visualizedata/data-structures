{
  "nbformat": 4,
  "nbformat_minor": 0,
  "metadata": {
    "colab": {
      "provenance": []
    },
    "kernelspec": {
      "name": "python3",
      "display_name": "Python 3"
    },
    "language_info": {
      "name": "python"
    }
  },
  "cells": [
    {
      "cell_type": "code",
      "execution_count": 1,
      "metadata": {
        "id": "P3zWHmLiDVdX"
      },
      "outputs": [],
      "source": [
        "# imports\n",
        "import urllib.request\n",
        "from bs4 import BeautifulSoup\n",
        "import re"
      ]
    },
    {
      "cell_type": "code",
      "source": [
        " # assign the URL to variable\n",
        "url = \"https://nyxcrossword.com\"\n",
        "\n",
        "# open and read the the HTML\n",
        "text = urllib.request.urlopen(url).read()\n",
        "\n",
        "# parse the HTML in BeautifulSoup\n",
        "soup = BeautifulSoup(text, 'html.parser')"
      ],
      "metadata": {
        "id": "La5R4W-5Dhy8"
      },
      "execution_count": 2,
      "outputs": []
    },
    {
      "cell_type": "code",
      "source": [
        "for clue in soup.find_all('h4'):\n",
        "    print(clue)"
      ],
      "metadata": {
        "colab": {
          "base_uri": "https://localhost:8080/"
        },
        "id": "PGXYROC5DkaE",
        "outputId": "b42f6d03-599a-41ef-bb21-a829a48d44e4"
      },
      "execution_count": 3,
      "outputs": [
        {
          "output_type": "stream",
          "name": "stdout",
          "text": [
            "<h4>\n",
            "\t1\tStuff in a party bag\t : \tSWAG\t</h4>\n",
            "<h4>\t5\tShade of black\t : \tJET\t</h4>\n",
            "<h4>\t19\tParadoxical answer to “What is ‘Golf’ in the NATO alphabet?”\t : \tGEE, I DON’T KNOW\t</h4>\n",
            "<h4>\t23\tEmcees’ deliveries\t : \tINTROS\t</h4>\n",
            "<h4>\t27\tParadoxical answer to “Can you say what ‘nyet’ is Russian for?”\t : \tNO, LET ME THINK\t</h4>\n",
            "<h4>\t33\tOverhead light?\t : \tHALO\t</h4>\n",
            "<h4>\t34\tArchitect who lived to be 102\t : \tPEI\t</h4>\n",
            "<h4>\t40\tSuffix with cyclo-\t : \t-TRON\t</h4>\n",
            "<h4>\t46\tComedian Aziz\t : \tANSARI\t</h4>\n",
            "<h4>\t50\tParadoxical answer to “What isle is located between Ireland and Great Britain?”\t : \tMAN, THAT’S HARD\t</h4>\n",
            "<h4>\t54\tView from a periscope\t : \tOCEAN\t</h4>\n",
            "<h4>\t59\tLa Campanella composer\t : \tLISZT\t</h4>\n",
            "<h4>\t61\tLondon transport, with “the”\t : \t… TUBE\t</h4>\n",
            "<h4>\t\t5\tWoman in a Lady Gaga song and album title (2016)\t : \tJOANNE\t</h4>\n",
            "<h4>\t7\tScuba need\t : \tTANK\t</h4>\n",
            "<h4>\t12\tHomer calls him “stupid Flanders”\t : \tNED\t</h4>\n",
            "<h4>\t14\tPart of a tape cassette\t : \tSPOOL\t</h4>\n",
            "<h4>\t20\tSinger known as the “Queen of Power Ballads”\t : \tDION\t</h4>\n",
            "<h4>\t21\tPhysics Nobelist Bohr\t : \tNIELS\t</h4>\n",
            "<h4>\t26\tS.N.L. routines\t : \tSKITS\t</h4>\n",
            "<h4>\t28\tBikini style\t : \tTHONG\t</h4>\n",
            "<h4>\t30\tStart or end for Alexa?\t : \tSCHWA\t</h4>\n",
            "<h4>\t37\tBaseball’s Gehrig\t : \tLOU\t</h4>\n",
            "<h4>\t41\tModern warfare concern, in brief\t : \tWMDS\t</h4>\n",
            "<h4>\t43\tDelivery class?\t : \tLAMAZE\t</h4>\n",
            "<h4>\t44\tMalia and Michelle, for two\t : \tOBAMAS\t</h4>\n",
            "<h4>\t53\tContacted privately on social media, informally\t : \tDM’ED\t</h4>\n",
            "<h4>\t55\tThe World Factbook org.\t : \tCIA\t</h4>\n",
            "<h4>\t56\tIs, to Ovid\t : \tEST\t</h4>\n"
          ]
        }
      ]
    },
    {
      "cell_type": "code",
      "source": [],
      "metadata": {
        "id": "ZjVwz--sDpjM"
      },
      "execution_count": null,
      "outputs": []
    }
  ]
}